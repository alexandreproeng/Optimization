{
 "cells": [
  {
   "cell_type": "code",
   "execution_count": null,
   "id": "88acc3ae-2017-47e8-b1f3-03ccb9ba8a8e",
   "metadata": {},
   "outputs": [],
   "source": [
    "## https://docs.scipy.org/doc/scipy/tutorial/optimize.html"
   ]
  },
  {
   "cell_type": "markdown",
   "id": "ac8c9ad9-3ed3-41d1-a389-7bdea6fc23f4",
   "metadata": {},
   "source": [
    "## Present the formulation\n",
    "\n",
    "$f(x) = ?$"
   ]
  },
  {
   "cell_type": "code",
   "execution_count": 1,
   "id": "8e2382ba-e08e-4871-bcf1-d9f799e4e437",
   "metadata": {},
   "outputs": [
    {
     "name": "stdout",
     "output_type": "stream",
     "text": [
      "\n",
      "==== Rosenbrock Results ====\n",
      "\n",
      "Method               |        f(x*) |   nfev |   njev |   nhev |  Time (ms) |  Success\n",
      "--------------------------------------------------------------------------------------\n",
      "Nelder-Mead          |   6.6175e-05 |    243 |    N/A |    N/A |      40.84 |     True\n",
      "BFGS                 |   4.0131e-13 |     30 |     30 |    N/A |      19.87 |     True\n",
      "Newton-CG            |   1.4917e-02 |   1003 |   1003 |   1000 |     602.54 |    False\n",
      "trust-ncg            |   3.3223e-04 |   1001 |    848 |    847 |     538.66 |    False\n",
      "trust-krylov         |   2.7387e-09 |    569 |    569 |    561 |    2183.03 |     True\n",
      "trust-exact          |   8.2289e-10 |    655 |    645 |    655 |    1441.29 |     True\n"
     ]
    }
   ],
   "source": [
    "import numpy as np\n",
    "import time\n",
    "from scipy.optimize import minimize\n",
    "\n",
    "# Combined Rosenbrock function\n",
    "def rosenbrock(x):\n",
    "    fval = sum(100.0 * (x[1:] - x[:-1]**2.0)**2.0 + (1 - x[:-1])**2.0)\n",
    "\n",
    "    xm = x[1:-1]\n",
    "    xm_m1 = x[:-2]\n",
    "    xm_p1 = x[2:]\n",
    "    grad = np.zeros_like(x)\n",
    "    grad[1:-1] = 200 * (xm - xm_m1**2) - 400 * (xm_p1 - xm**2) * xm - 2 * (1 - xm)\n",
    "    grad[0] = -400 * x[0] * (x[1] - x[0]**2) - 2 * (1 - x[0])\n",
    "    grad[-1] = 200 * (x[-1] - x[-2]**2)\n",
    "\n",
    "    n = len(x)\n",
    "    H = np.zeros((n, n))\n",
    "    for i in range(n):\n",
    "        if i > 0:\n",
    "            H[i, i - 1] = -400 * x[i - 1]\n",
    "        if i < n - 1:\n",
    "            H[i, i] = 1200 * x[i]**2 - 400 * x[i + 1] + 2\n",
    "            H[i, i + 1] = -400 * x[i]\n",
    "        else:\n",
    "            H[i, i] = 200\n",
    "    for i in range(n - 1):\n",
    "        H[i + 1, i] = H[i, i + 1]\n",
    "\n",
    "    return fval, grad, H\n",
    "\n",
    "# Initial point\n",
    "x0 = np.array([1.3, 0.7, 0.8, 1.9, 1.2])\n",
    "\n",
    "# List of methods to compare\n",
    "methods = {\n",
    "    \"Nelder-Mead\": {\"method\": \"Nelder-Mead\"},\n",
    "    \"BFGS\": {\"method\": \"BFGS\", \"jac\": lambda x: rosenbrock(x)[1]},\n",
    "    \"Newton-CG\": {\"method\": \"Newton-CG\", \"jac\": lambda x: rosenbrock(x)[1], \"hess\": lambda x: rosenbrock(x)[2]},\n",
    "    \"trust-ncg\": {\"method\": \"trust-ncg\", \"jac\": lambda x: rosenbrock(x)[1], \"hess\": lambda x: rosenbrock(x)[2]},\n",
    "    \"trust-krylov\": {\"method\": \"trust-krylov\", \"jac\": lambda x: rosenbrock(x)[1], \"hess\": lambda x: rosenbrock(x)[2]},\n",
    "    \"trust-exact\": {\"method\": \"trust-exact\", \"jac\": lambda x: rosenbrock(x)[1], \"hess\": lambda x: rosenbrock(x)[2]},\n",
    "}\n",
    "\n",
    "# Executa as otimizações e armazena resultados\n",
    "results = {}\n",
    "\n",
    "for name, opts in methods.items():\n",
    "    start_time = time.time()\n",
    "    res = minimize(lambda x: rosenbrock(x)[0], x0, **opts, options={\"disp\": False})\n",
    "    elapsed_time = (time.time() - start_time) * 1000  # em ms\n",
    "    results[name] = {\n",
    "        \"x0\": x0,\n",
    "        \"x*\": res.x,\n",
    "        \"fval\": res.fun,\n",
    "        \"nfev\": res.nfev,\n",
    "        \"njev\": res.get(\"njev\", None),\n",
    "        \"nhev\": res.get(\"nhev\", None),\n",
    "        \"time\": elapsed_time,\n",
    "        \"success\": res.success\n",
    "    }\n",
    "\n",
    "# Apresenta os resultados com alinhamento\n",
    "print(\"\\n==== Rosenbrock Results ====\\n\")\n",
    "header = f\"{'Method':<20} | {'f(x*)':>12} | {'nfev':>6} | {'njev':>6} | {'nhev':>6} | {'Time (ms)':>10} | {'Success':>8}\"\n",
    "print(header)\n",
    "print(\"-\" * len(header))\n",
    "\n",
    "for method, data in results.items():\n",
    "    print(f\"{method:<20} | {data['fval']:12.4e} | {data['nfev']:6d} | \"\n",
    "          f\"{data['njev'] if data['njev'] is not None else '  N/A':>6} | \"\n",
    "          f\"{data['nhev'] if data['nhev'] is not None else '  N/A':>6} | \"\n",
    "          f\"{data['time']:10.2f} | {str(data['success']):>8}\")\n"
   ]
  },
  {
   "cell_type": "markdown",
   "id": "a4a971d1-51af-4ec3-9d1a-dfd039b859fb",
   "metadata": {},
   "source": [
    "## $$\n",
    "\\min_{x_1, x_2} \\Bigl(\\cos x_1 \\,\\sin x_2 \\;-\\; \\frac{x_1}{x_2^2 + 1}\\Bigr)\n",
    "$$"
   ]
  },
  {
   "cell_type": "code",
   "execution_count": 2,
   "id": "166e9129-fd13-4fe2-9b3c-c125c0cf4ac7",
   "metadata": {},
   "outputs": [
    {
     "name": "stdout",
     "output_type": "stream",
     "text": [
      "\n",
      "==== Example 02 Results ====\n",
      "\n",
      "Method               |        f(x*) |   nfev |   njev |   nhev |  Time (ms) |  Success\n",
      "--------------------------------------------------------------------------------------\n",
      "Nelder-Mead          |  -1.0457e+00 |    167 |    N/A |    N/A |      29.29 |     True\n",
      "BFGS                 |  -9.6673e+22 |    248 |    236 |    N/A |      90.78 |    False\n",
      "Newton-CG            |   0.0000e+00 |      1 |      1 |      1 |       0.76 |     True\n",
      "trust-ncg            |  -1.6960e+05 |    399 |    396 |    395 |     181.35 |    False\n",
      "trust-krylov         |   0.0000e+00 |      2 |      2 |      1 |       5.11 |    False\n",
      "trust-exact          |  -2.2003e+05 |    401 |    389 |    401 |     429.52 |    False\n"
     ]
    }
   ],
   "source": [
    "def ex02(x):\n",
    "    x1, x2 = x\n",
    "\n",
    "    # Função\n",
    "    f = np.cos(x1) * np.sin(x2) - x1 / (x2**2 + 1)\n",
    "\n",
    "    # Gradiente\n",
    "    df_dx1 = -np.sin(x1) * np.sin(x2) - 1 / (x2**2 + 1)\n",
    "    df_dx2 = np.cos(x1) * np.cos(x2) + (2 * x1 * x2) / (x2**2 + 1)**2\n",
    "    g = np.array([df_dx1, df_dx2])\n",
    "\n",
    "    # Hessiana\n",
    "    d2f_dx1dx1 = -np.cos(x1) * np.sin(x2)\n",
    "    d2f_dx1dx2 = -np.sin(x1) * np.cos(x2) + (2 * x2) / (x2**2 + 1)**2\n",
    "    d2f_dx2dx1 = d2f_dx1dx2\n",
    "    d2f_dx2dx2 = -np.cos(x1) * np.sin(x2) + \\\n",
    "                 (2 * x1 * (x2**2 + 1)**2 - 8 * x1 * x2**2 * (x2**2 + 1)) / (x2**2 + 1)**4\n",
    "    H = np.array([\n",
    "        [d2f_dx1dx1, d2f_dx1dx2],\n",
    "        [d2f_dx2dx1, d2f_dx2dx2]\n",
    "    ])\n",
    "\n",
    "    return f, g, H\n",
    "\n",
    "# Initial point\n",
    "x0 = np.array([0.0, 0.0])\n",
    "\n",
    "# List of methods to compare\n",
    "methods = {\n",
    "    \"Nelder-Mead\": {\"method\": \"Nelder-Mead\"},\n",
    "    \"BFGS\": {\"method\": \"BFGS\", \"jac\": lambda x: ex02(x)[1]},\n",
    "    \"Newton-CG\": {\"method\": \"Newton-CG\", \"jac\": lambda x: ex02(x)[1], \"hess\": lambda x: ex02(x)[2]},\n",
    "    \"trust-ncg\": {\"method\": \"trust-ncg\", \"jac\": lambda x: ex02(x)[1], \"hess\": lambda x: ex02(x)[2]},\n",
    "    \"trust-krylov\": {\"method\": \"trust-krylov\", \"jac\": lambda x: ex02(x)[1], \"hess\": lambda x: ex02(x)[2]},\n",
    "    \"trust-exact\": {\"method\": \"trust-exact\", \"jac\": lambda x: ex02(x)[1], \"hess\": lambda x: ex02(x)[2]},\n",
    "}\n",
    "\n",
    "# Executa as otimizações e armazena resultados\n",
    "results = {}\n",
    "\n",
    "for name, opts in methods.items():\n",
    "    start_time = time.time()\n",
    "    res = minimize(lambda x: ex02(x)[0], x0, **opts, options={\"disp\": False})\n",
    "    elapsed_time = (time.time() - start_time) * 1000  # em ms\n",
    "    results[name] = {\n",
    "        \"x0\": x0,\n",
    "        \"x*\": res.x,\n",
    "        \"fval\": res.fun,\n",
    "        \"nfev\": res.nfev,\n",
    "        \"njev\": res.get(\"njev\", None),\n",
    "        \"nhev\": res.get(\"nhev\", None),\n",
    "        \"time\": elapsed_time,\n",
    "        \"success\": res.success\n",
    "    }\n",
    "\n",
    "# Apresenta os resultados com alinhamento\n",
    "print(\"\\n==== Example 02 Results ====\\n\")\n",
    "header = f\"{'Method':<20} | {'f(x*)':>12} | {'nfev':>6} | {'njev':>6} | {'nhev':>6} | {'Time (ms)':>10} | {'Success':>8}\"\n",
    "print(header)\n",
    "print(\"-\" * len(header))\n",
    "\n",
    "for method, data in results.items():\n",
    "    print(f\"{method:<20} | {data['fval']:12.4e} | {data['nfev']:6d} | \"\n",
    "          f\"{data['njev'] if data['njev'] is not None else '  N/A':>6} | \"\n",
    "          f\"{data['nhev'] if data['nhev'] is not None else '  N/A':>6} | \"\n",
    "          f\"{data['time']:10.2f} | {str(data['success']):>8}\")"
   ]
  },
  {
   "cell_type": "markdown",
   "id": "a35e0341-072b-468a-b5bb-84fafe35788f",
   "metadata": {},
   "source": [
    "Problem Statistics: \n",
    "\n",
    "\\# of continuous variables: 2\n",
    "\n",
    "\\# of known solutions: 3\n",
    "\n",
    "Global solution:\n",
    "\n",
    "Objective function: -2.02181\n",
    "\n",
    "Continuous variables: $x_1 = 2; x_2 = 0.10578$"
   ]
  },
  {
   "cell_type": "code",
   "execution_count": 3,
   "id": "ae892ca2-c379-4e57-839d-2605d4c1290a",
   "metadata": {},
   "outputs": [
    {
     "data": {
      "text/plain": [
       "{'x0': array([0., 0.]),\n",
       " 'x*': array([2.20032125e+05, 6.37081271e-04]),\n",
       " 'fval': np.float64(-220032.03547900406),\n",
       " 'nfev': 401,\n",
       " 'njev': 389,\n",
       " 'nhev': 401,\n",
       " 'time': 429.5239448547363,\n",
       " 'success': False}"
      ]
     },
     "execution_count": 3,
     "metadata": {},
     "output_type": "execute_result"
    }
   ],
   "source": [
    "results['trust-exact']"
   ]
  },
  {
   "cell_type": "code",
   "execution_count": 4,
   "id": "178c6ccc-2033-4735-a51a-f8f8e8cd61fb",
   "metadata": {},
   "outputs": [
    {
     "data": {
      "text/plain": [
       "(np.float64(-2.0218067833370204),\n",
       " array([-1.08494061e+00, -1.31240428e-05]),\n",
       " array([[ 0.04393797, -0.69731109],\n",
       "        [-0.69731109,  3.78275021]]))"
      ]
     },
     "execution_count": 4,
     "metadata": {},
     "output_type": "execute_result"
    }
   ],
   "source": [
    "ex02(np.array([2., 0.10578]))"
   ]
  },
  {
   "cell_type": "markdown",
   "id": "af59c6b6-00c1-41dd-9e13-ff3fa77cfadf",
   "metadata": {},
   "source": [
    "Testes de derivadas por diferenças finitas"
   ]
  },
  {
   "cell_type": "code",
   "execution_count": 5,
   "id": "b75ae822-1cb5-46c0-9e9c-550746518067",
   "metadata": {},
   "outputs": [
    {
     "data": {
      "text/plain": [
       "(array([7.76445575e-09, 1.14897460e-08]),\n",
       " array([[2.34168240e-12, 5.61722197e-12],\n",
       "        [5.61722197e-12, 5.45773426e-11]]))"
      ]
     },
     "execution_count": 5,
     "metadata": {},
     "output_type": "execute_result"
    }
   ],
   "source": [
    "# Gradiente e Hessiana numéricas\n",
    "from scipy.optimize import approx_fprime\n",
    "def numerical_hessian(f_grad, x, h=1e-5):\n",
    "    n = len(x)\n",
    "    H = np.zeros((n, n))\n",
    "    fx = f_grad(x)\n",
    "    for i in range(n):\n",
    "        x1 = x.copy()\n",
    "        x1[i] += h\n",
    "        f1 = f_grad(x1)\n",
    "        x2 = x.copy()\n",
    "        x2[i] -= h\n",
    "        f2 = f_grad(x2)\n",
    "        H[:, i] = (f1 - f2) / (2 * h)\n",
    "    return H\n",
    "\n",
    "# Ponto de teste\n",
    "x0 = np.array([1.0, 1.0])\n",
    "eps = np.sqrt(np.finfo(float).eps)\n",
    "\n",
    "# Avaliação da função\n",
    "f_val, g_analytical, H_analytical = ex02(x0)\n",
    "\n",
    "# Gradiente numérico\n",
    "g_numeric = approx_fprime(x0, lambda x: ex02(x)[0], eps)\n",
    "\n",
    "# Hessiana numérica via gradiente\n",
    "H_numeric = numerical_hessian(lambda x: ex02(x)[1], x0)\n",
    "\n",
    "# Diferenças absolutas\n",
    "grad_diff = np.abs(g_numeric - g_analytical)\n",
    "hess_diff = np.abs(H_numeric - H_analytical)\n",
    "\n",
    "grad_diff, hess_diff\n"
   ]
  },
  {
   "cell_type": "markdown",
   "id": "e9887743-47fd-4f38-b515-9b3f3015b207",
   "metadata": {},
   "source": [
    "$$\n",
    "\\min_{x, y} \n",
    "\\Bigl[\n",
    "1 \n",
    "+ (x + y + 1)^2 \\,\\bigl(19 - 14x + 3x^2 - 14y + 6xy + 3y^2\\bigr)\n",
    "\\Bigr]\n",
    "\\;\\times\\;\n",
    "\\Bigl[\n",
    "30 \n",
    "+ (2x - 3y)^2 \\,\\bigl(18 - 32x^2 + 12x^2 + 48y - 36xy + 27y^2\\bigr)\n",
    "\\Bigr]\n",
    "$$"
   ]
  },
  {
   "cell_type": "code",
   "execution_count": 6,
   "id": "0bb4ba81-dd3c-4358-ac4f-0b039762c59b",
   "metadata": {},
   "outputs": [],
   "source": [
    "import numpy as np\n",
    "\n",
    "# Função e gradiente analítico\n",
    "def goldstein_price_fg(x):\n",
    "    x1, x2 = x\n",
    "    a = x1 + x2 + 1\n",
    "    b = 2 * x1 - 3 * x2\n",
    "\n",
    "    A = 1 + a**2 * (19 - 14 * x1 + 3 * x1**2 - 14 * x2 + 6 * x1 * x2 + 3 * x2**2)\n",
    "    B = 30 + b**2 * (18 - 32 * x1 + 12 * x1**2 + 48 * x2 - 36 * x1 * x2 + 27 * x2**2)\n",
    "\n",
    "    f = A * B\n",
    "\n",
    "    dA_dx1 = 2 * a * (19 - 14 * x1 + 3 * x1**2 - 14 * x2 + 6 * x1 * x2 + 3 * x2**2) \\\n",
    "             + a**2 * (-14 + 6 * x1 + 6 * x2)\n",
    "    dA_dx2 = 2 * a * (19 - 14 * x1 + 3 * x1**2 - 14 * x2 + 6 * x1 * x2 + 3 * x2**2) \\\n",
    "             + a**2 * (-14 + 6 * x1 + 6 * x2)\n",
    "\n",
    "    dB_dx1 = 4 * b * (18 - 32 * x1 + 12 * x1**2 + 48 * x2 - 36 * x1 * x2 + 27 * x2**2) \\\n",
    "             + b**2 * (-32 + 24 * x1 - 36 * x2)\n",
    "    dB_dx2 = -6 * b * (18 - 32 * x1 + 12 * x1**2 + 48 * x2 - 36 * x1 * x2 + 27 * x2**2) \\\n",
    "             + b**2 * (48 - 36 * x1 + 54 * x2)\n",
    "\n",
    "    df_dx1 = dA_dx1 * B + A * dB_dx1\n",
    "    df_dx2 = dA_dx2 * B + A * dB_dx2\n",
    "    g = np.array([df_dx1, df_dx2])\n",
    "\n",
    "    return f, g\n",
    "\n",
    "# Hessiana numérica com diferenças centrais\n",
    "def numerical_hessian(grad_func, x, h=1e-5):\n",
    "    n = len(x)\n",
    "    H = np.zeros((n, n))\n",
    "    for i in range(n):\n",
    "        x1 = x.copy()\n",
    "        x2 = x.copy()\n",
    "        x1[i] += h\n",
    "        x2[i] -= h\n",
    "        g1 = grad_func(x1)\n",
    "        g2 = grad_func(x2)\n",
    "        H[:, i] = (g1 - g2) / (2 * h)\n",
    "    return H\n",
    "\n",
    "# Interface principal\n",
    "def ex03(x):\n",
    "    f, g = goldstein_price_fg(x)\n",
    "    H = numerical_hessian(lambda x_: goldstein_price_fg(x_)[1], x)\n",
    "    return f, g, H\n",
    "\n"
   ]
  },
  {
   "cell_type": "code",
   "execution_count": 7,
   "id": "a0502458-bd82-444d-a43d-98ccb03abafa",
   "metadata": {},
   "outputs": [
    {
     "name": "stdout",
     "output_type": "stream",
     "text": [
      "f(x) = 3.0\n",
      "∇f(x) = [0. 0.]\n",
      "∇²f(x) =\n",
      " [[ 504.0000021  -215.99999929]\n",
      " [-216.00000055  864.00000477]]\n"
     ]
    }
   ],
   "source": [
    "x0 = np.array([0.0, -1.0])\n",
    "fval, grad, hess = ex03(x0)\n",
    "print(\"f(x) =\", fval)\n",
    "print(\"∇f(x) =\", grad)\n",
    "print(\"∇²f(x) =\\n\", hess)"
   ]
  },
  {
   "cell_type": "code",
   "execution_count": 8,
   "id": "cd608434-5b23-466d-9961-c0454262172f",
   "metadata": {},
   "outputs": [
    {
     "name": "stdout",
     "output_type": "stream",
     "text": [
      "\n",
      "==== Example 03 Results ====\n",
      "\n",
      "Method               |        f(x*) |   nfev |   njev |   nhev |  Time (ms) |  Success\n",
      "--------------------------------------------------------------------------------------\n",
      "Nelder-Mead          |   3.0000e+01 |    121 |    N/A |    N/A |      30.35 |     True\n",
      "BFGS                 |   3.0000e+01 |     16 |     16 |    N/A |       6.99 |     True\n",
      "Newton-CG            |   3.0000e+01 |     13 |     13 |      8 |       8.16 |     True\n",
      "trust-ncg            |   3.0000e+01 |     11 |      9 |      8 |       6.19 |     True\n",
      "trust-krylov         |   3.0000e+01 |      7 |      7 |      6 |      21.22 |     True\n",
      "trust-exact          |   3.0000e+01 |      7 |      7 |      7 |       5.91 |     True\n"
     ]
    }
   ],
   "source": [
    "# Initial point\n",
    "x0 = np.array([0.0, 0.0])\n",
    "\n",
    "# List of methods to compare\n",
    "methods = {\n",
    "    \"Nelder-Mead\": {\"method\": \"Nelder-Mead\"},\n",
    "    \"BFGS\": {\"method\": \"BFGS\", \"jac\": lambda x: ex03(x)[1]},\n",
    "    \"Newton-CG\": {\"method\": \"Newton-CG\", \"jac\": lambda x: ex03(x)[1], \"hess\": lambda x: ex03(x)[2]},\n",
    "    \"trust-ncg\": {\"method\": \"trust-ncg\", \"jac\": lambda x: ex03(x)[1], \"hess\": lambda x: ex03(x)[2]},\n",
    "    \"trust-krylov\": {\"method\": \"trust-krylov\", \"jac\": lambda x: ex03(x)[1], \"hess\": lambda x: ex03(x)[2]},\n",
    "    \"trust-exact\": {\"method\": \"trust-exact\", \"jac\": lambda x: ex03(x)[1], \"hess\": lambda x: ex03(x)[2]},\n",
    "}\n",
    "\n",
    "# Executa as otimizações e armazena resultados\n",
    "results = {}\n",
    "\n",
    "for name, opts in methods.items():\n",
    "    start_time = time.time()\n",
    "    res = minimize(lambda x: ex03(x)[0], x0, **opts, options={\"disp\": False})\n",
    "    elapsed_time = (time.time() - start_time) * 1000  # em ms\n",
    "    results[name] = {\n",
    "        \"x0\": x0,\n",
    "        \"x*\": res.x,\n",
    "        \"fval\": res.fun,\n",
    "        \"nfev\": res.nfev,\n",
    "        \"njev\": res.get(\"njev\", None),\n",
    "        \"nhev\": res.get(\"nhev\", None),\n",
    "        \"time\": elapsed_time,\n",
    "        \"success\": res.success\n",
    "    }\n",
    "\n",
    "# Apresenta os resultados com alinhamento\n",
    "print(\"\\n==== Example 03 Results ====\\n\")\n",
    "header = f\"{'Method':<20} | {'f(x*)':>12} | {'nfev':>6} | {'njev':>6} | {'nhev':>6} | {'Time (ms)':>10} | {'Success':>8}\"\n",
    "print(header)\n",
    "print(\"-\" * len(header))\n",
    "\n",
    "for method, data in results.items():\n",
    "    print(f\"{method:<20} | {data['fval']:12.4e} | {data['nfev']:6d} | \"\n",
    "          f\"{data['njev'] if data['njev'] is not None else '  N/A':>6} | \"\n",
    "          f\"{data['nhev'] if data['nhev'] is not None else '  N/A':>6} | \"\n",
    "          f\"{data['time']:10.2f} | {str(data['success']):>8}\")"
   ]
  },
  {
   "cell_type": "markdown",
   "id": "fdf01147-d3dd-4e86-a0de-6c1e7f0e3fdd",
   "metadata": {},
   "source": [
    "Problem Statistics: \n",
    "\n",
    "\\# of continuous variables: 2\n",
    "\n",
    "\\# of known solutions: 4\n",
    "\n",
    "Global solution:\n",
    "\n",
    "Objective function: 3\n",
    "\n",
    "Continuous variables: $x_1 = 0.0; x_2 = -1.0$"
   ]
  },
  {
   "cell_type": "markdown",
   "id": "2fb89aa0-4642-4f14-b218-58a8b248c1f7",
   "metadata": {},
   "source": [
    "$$\n",
    "f_1(x) \\;=\\; -20 \\, e^{-0.2 \\,\\sqrt{\\frac{1}{D}\\,\\sum_{i=1}^{D} x_i^2}} \n",
    "\\;-\\; e^{\\frac{1}{D}\\,\\sum_{i=1}^{D} \\cos\\bigl(2\\pi x_i\\bigr)} \n",
    "\\;+\\; 20 \n",
    "\\;+\\; e\n",
    "$$"
   ]
  },
  {
   "cell_type": "code",
   "execution_count": 9,
   "id": "c8c4eaac-fdaf-43aa-ab47-0213cb2022fa",
   "metadata": {},
   "outputs": [],
   "source": [
    "\n",
    "# Valor e gradiente da função Ackley 1\n",
    "def ackley1_fg(x):\n",
    "    D = len(x)\n",
    "    sum_sq = np.sum(x**2)\n",
    "    sum_cos = np.sum(np.cos(2 * np.pi * x))\n",
    "    \n",
    "    term1 = -20 * np.exp(-0.2 * np.sqrt(sum_sq / D))\n",
    "    term2 = -np.exp(sum_cos / D)\n",
    "    f = term1 + term2 + 20 + np.e\n",
    "\n",
    "    # Gradiente analítico\n",
    "    sqrt_sum_sq = np.sqrt(sum_sq / D)\n",
    "    if sqrt_sum_sq == 0:\n",
    "        grad1 = 0\n",
    "    else:\n",
    "        grad1 = (4 * x / (D * sqrt_sum_sq)) * np.exp(-0.2 * sqrt_sum_sq)\n",
    "\n",
    "    grad2 = (2 * np.pi / D) * np.sin(2 * np.pi * x) * np.exp(sum_cos / D)\n",
    "\n",
    "    g = grad1 + grad2\n",
    "    return f, g\n",
    "\n",
    "# Hessiana numérica usando gradiente externo\n",
    "def numerical_hessian(grad_func, x, h=1e-5):\n",
    "    n = len(x)\n",
    "    H = np.zeros((n, n))\n",
    "    for i in range(n):\n",
    "        x1 = x.copy()\n",
    "        x2 = x.copy()\n",
    "        x1[i] += h\n",
    "        x2[i] -= h\n",
    "        g1 = grad_func(x1)\n",
    "        g2 = grad_func(x2)\n",
    "        H[:, i] = (g1 - g2) / (2 * h)\n",
    "    return H\n",
    "\n",
    "# Interface final\n",
    "def ackley1(x):\n",
    "    f, g = ackley1_fg(x)\n",
    "    H = numerical_hessian(lambda x_: ackley1_fg(x_)[1], x)\n",
    "    return f, g, H\n",
    "\n"
   ]
  },
  {
   "cell_type": "code",
   "execution_count": 10,
   "id": "7a3cbf68-7e45-4b85-919a-77a7b7962bf5",
   "metadata": {},
   "outputs": [
    {
     "name": "stdout",
     "output_type": "stream",
     "text": [
      "f(x) = 4.440892098500626e-16\n",
      "∇f(x) = [0. 0. 0. 0. 0.]\n",
      "∇²f(x) =\n",
      " [[178906.74089307      0.              0.              0.\n",
      "       0.        ]\n",
      " [     0.         178906.74089307      0.              0.\n",
      "       0.        ]\n",
      " [     0.              0.         178906.74089307      0.\n",
      "       0.        ]\n",
      " [     0.              0.              0.         178906.74089307\n",
      "       0.        ]\n",
      " [     0.              0.              0.              0.\n",
      "  178906.74089307]]\n"
     ]
    }
   ],
   "source": [
    "x0 = np.zeros(5)\n",
    "fval, grad, hess = ackley1(x0)\n",
    "print(\"f(x) =\", fval)\n",
    "print(\"∇f(x) =\", grad)\n",
    "print(\"∇²f(x) =\\n\", hess)"
   ]
  },
  {
   "cell_type": "code",
   "execution_count": 11,
   "id": "ad9a48c4-921e-42b6-a95e-faa6291cf59f",
   "metadata": {},
   "outputs": [
    {
     "name": "stdout",
     "output_type": "stream",
     "text": [
      "\n",
      "==== Example 03 Results ====\n",
      "\n",
      "Method               |        f(x*) |   nfev |   njev |   nhev |  Time (ms) |  Success\n",
      "--------------------------------------------------------------------------------------\n",
      "Nelder-Mead          |   3.5745e+00 |    145 |    N/A |    N/A |     161.76 |     True\n",
      "BFGS                 |   3.5745e+00 |      7 |      7 |    N/A |      16.71 |     True\n",
      "Newton-CG            |   3.5745e+00 |      4 |      4 |      3 |      11.88 |     True\n",
      "trust-ncg            |   3.5745e+00 |      3 |      3 |      2 |       9.74 |     True\n",
      "trust-krylov         |   3.5745e+00 |      3 |      3 |      2 |      15.93 |     True\n",
      "trust-exact          |   3.5745e+00 |      3 |      3 |      3 |      10.06 |     True\n"
     ]
    }
   ],
   "source": [
    "# Initial point\n",
    "x0 = np.ones(5)\n",
    "\n",
    "# List of methods to compare\n",
    "methods = {\n",
    "    \"Nelder-Mead\": {\"method\": \"Nelder-Mead\"},\n",
    "    \"BFGS\": {\"method\": \"BFGS\", \"jac\": lambda x: ackley1(x)[1]},\n",
    "    \"Newton-CG\": {\"method\": \"Newton-CG\", \"jac\": lambda x: ackley1(x)[1], \"hess\": lambda x: ackley1(x)[2]},\n",
    "    \"trust-ncg\": {\"method\": \"trust-ncg\", \"jac\": lambda x: ackley1(x)[1], \"hess\": lambda x: ackley1(x)[2]},\n",
    "    \"trust-krylov\": {\"method\": \"trust-krylov\", \"jac\": lambda x: ackley1(x)[1], \"hess\": lambda x: ackley1(x)[2]},\n",
    "    \"trust-exact\": {\"method\": \"trust-exact\", \"jac\": lambda x: ackley1(x)[1], \"hess\": lambda x: ackley1(x)[2]},\n",
    "}\n",
    "\n",
    "# Executa as otimizações e armazena resultados\n",
    "results = {}\n",
    "\n",
    "for name, opts in methods.items():\n",
    "    start_time = time.time()\n",
    "    res = minimize(lambda x: ackley1(x)[0], x0, **opts, options={\"disp\": False})\n",
    "    elapsed_time = (time.time() - start_time) * 1000  # em ms\n",
    "    results[name] = {\n",
    "        \"x0\": x0,\n",
    "        \"x*\": res.x,\n",
    "        \"fval\": res.fun,\n",
    "        \"nfev\": res.nfev,\n",
    "        \"njev\": res.get(\"njev\", None),\n",
    "        \"nhev\": res.get(\"nhev\", None),\n",
    "        \"time\": elapsed_time,\n",
    "        \"success\": res.success\n",
    "    }\n",
    "\n",
    "# Apresenta os resultados com alinhamento\n",
    "print(\"\\n==== Example 03 Results ====\\n\")\n",
    "header = f\"{'Method':<20} | {'f(x*)':>12} | {'nfev':>6} | {'njev':>6} | {'nhev':>6} | {'Time (ms)':>10} | {'Success':>8}\"\n",
    "print(header)\n",
    "print(\"-\" * len(header))\n",
    "\n",
    "for method, data in results.items():\n",
    "    print(f\"{method:<20} | {data['fval']:12.4e} | {data['nfev']:6d} | \"\n",
    "          f\"{data['njev'] if data['njev'] is not None else '  N/A':>6} | \"\n",
    "          f\"{data['nhev'] if data['nhev'] is not None else '  N/A':>6} | \"\n",
    "          f\"{data['time']:10.2f} | {str(data['success']):>8}\")"
   ]
  },
  {
   "cell_type": "markdown",
   "id": "0ee8a548-21b6-4138-b970-191555307832",
   "metadata": {},
   "source": [
    "## Exercício 1 - Função 105 - Rosenbrock\n",
    "\n",
    "Avaliar para diferentes valores de D"
   ]
  },
  {
   "cell_type": "code",
   "execution_count": 5,
   "id": "fb2e4d8f-fff7-43cf-990f-2a890c928bd8",
   "metadata": {},
   "outputs": [
    {
     "name": "stdout",
     "output_type": "stream",
     "text": [
      "Para D = 2, f(x) = 5.8000\n",
      "Para D = 5, f(x) = 23.2000\n",
      "Para D = 10, f(x) = 52.2000\n"
     ]
    }
   ],
   "source": [
    "import numpy as np\n",
    "\n",
    "# Função de Rosenbrock com gradiente e Hessiana\n",
    "def rosenbrock(x):\n",
    "    fval = sum(100.0 * (x[1:] - x[:-1]**2.0)**2.0 + (1 - x[:-1])**2.0)\n",
    "\n",
    "    xm = x[1:-1]\n",
    "    xm_m1 = x[:-2]\n",
    "    xm_p1 = x[2:]\n",
    "    grad = np.zeros_like(x)\n",
    "    grad[1:-1] = 200 * (xm - xm_m1**2) - 400 * (xm_p1 - xm**2) * xm - 2 * (1 - xm)\n",
    "    grad[0] = -400 * x[0] * (x[1] - x[0]**2) - 2 * (1 - x[0])\n",
    "    grad[-1] = 200 * (x[-1] - x[-2]**2)\n",
    "\n",
    "    n = len(x)\n",
    "    H = np.zeros((n, n))\n",
    "    for i in range(n):\n",
    "        if i > 0:\n",
    "            H[i, i - 1] = -400 * x[i - 1]\n",
    "        if i < n - 1:\n",
    "            H[i, i] = 1200 * x[i]**2 - 400 * x[i + 1] + 2\n",
    "            H[i, i + 1] = -400 * x[i]\n",
    "        else:\n",
    "            H[i, i] = 200\n",
    "    for i in range(n - 1):\n",
    "        H[i + 1, i] = H[i, i + 1]\n",
    "\n",
    "    return fval, grad, H\n",
    "\n",
    "# Valores de D que vamos testar\n",
    "Ds = [2, 5, 10]\n",
    "\n",
    "# Avalia a função para cada D\n",
    "for D in Ds:\n",
    "    x = np.full(D, 1.2)\n",
    "    fval, _, _ = rosenbrock(x)\n",
    "    print(f\"Para D = {D}, f(x) = {fval:.4f}\")\n"
   ]
  },
  {
   "cell_type": "markdown",
   "id": "1f237a7d-8154-4421-a1dd-3890db87ca87",
   "metadata": {},
   "source": [
    "## Exercício 2- Função 114 - Scahffer 3\n",
    "\n",
    "Testar para diferentes pontos iniciais."
   ]
  },
  {
   "cell_type": "code",
   "execution_count": null,
   "id": "56de615b-3937-4938-8a45-6128959e0e1e",
   "metadata": {},
   "outputs": [],
   "source": []
  },
  {
   "cell_type": "markdown",
   "id": "f87fa97b-07e7-4e96-9a14-2a272ede979d",
   "metadata": {},
   "source": [
    "## Exercício 3 - Função 142 - Streched V Sine Wave Function\n",
    "\n",
    "Avaliar para diferentes valores de D"
   ]
  },
  {
   "cell_type": "code",
   "execution_count": null,
   "id": "b6829d93-0f9d-416d-8099-f7b9f0685085",
   "metadata": {},
   "outputs": [],
   "source": []
  },
  {
   "cell_type": "markdown",
   "id": "f647247f-618a-4616-aed0-b6b0f13ef3fe",
   "metadata": {},
   "source": [
    "## Exercício 4 - Função 61 - Hansen\n",
    "\n",
    "A partir de diferentes pontos iniciais, encontrar ao menos dois dos mínimos globais."
   ]
  },
  {
   "cell_type": "code",
   "execution_count": null,
   "id": "e023b667-25b9-4cc5-8e4b-678f8675d44e",
   "metadata": {},
   "outputs": [],
   "source": []
  }
 ],
 "metadata": {
  "kernelspec": {
   "display_name": "Python 3 (ipykernel)",
   "language": "python",
   "name": "python3"
  },
  "language_info": {
   "codemirror_mode": {
    "name": "ipython",
    "version": 3
   },
   "file_extension": ".py",
   "mimetype": "text/x-python",
   "name": "python",
   "nbconvert_exporter": "python",
   "pygments_lexer": "ipython3",
   "version": "3.13.3"
  }
 },
 "nbformat": 4,
 "nbformat_minor": 5
}
