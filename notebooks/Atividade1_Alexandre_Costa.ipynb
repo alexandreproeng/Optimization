{
 "cells": [
  {
   "cell_type": "markdown",
   "id": "9aa7dd1e-eb41-4ee2-ba04-0c244017575b",
   "metadata": {},
   "source": [
    "Exercise 2.2: Function 4"
   ]
  },
  {
   "cell_type": "markdown",
   "id": "41302856-3ed3-404b-b4b7-72733add3a0e",
   "metadata": {},
   "source": [
    "Consider $f:\\mathbb{R}^2 \\to \\mathbb{R}$ defined as \\\\[f(x)= x_1^2 - x_1x_2 + 2 x_2^2\\\\]"
   ]
  },
  {
   "cell_type": "code",
   "execution_count": 11,
   "id": "838df4b5-b84f-4587-b470-8d657e12dfca",
   "metadata": {},
   "outputs": [
    {
     "data": {
      "text/latex": [
       "$\\displaystyle \\left[\\begin{matrix}2 {x}_{0} - {x}_{1}\\\\- {x}_{0} + 4.0 {x}_{1}\\end{matrix}\\right]$"
      ],
      "text/plain": [
       "Matrix([\n",
       "[   2*x[0] - x[1]],\n",
       "[-x[0] + 4.0*x[1]]])"
      ]
     },
     "execution_count": 11,
     "metadata": {},
     "output_type": "execute_result"
    }
   ],
   "source": [
    "import sympy as sp\n",
    "x = sp.IndexedBase('x')\n",
    "f = x[0] * x[0] - x[0] * x[1] + 2.0 * x[1] * x[1]\n",
    "x = sp.Matrix([x[0], x[1]])\n",
    "gradiente = sp.Matrix([sp.diff(f, var) for var in x])\n",
    "gradiente"
   ]
  },
  {
   "cell_type": "code",
   "execution_count": 17,
   "id": "20c40cca-cd5d-4aa4-b496-83892ae200b8",
   "metadata": {},
   "outputs": [
    {
     "data": {
      "text/latex": [
       "$\\displaystyle \\left[\\begin{matrix}2 & -1\\\\-1 & 4.0\\end{matrix}\\right]$"
      ],
      "text/plain": [
       "Matrix([\n",
       "[ 2,  -1],\n",
       "[-1, 4.0]])"
      ]
     },
     "execution_count": 17,
     "metadata": {},
     "output_type": "execute_result"
    }
   ],
   "source": [
    "hessian = sp.Matrix(2, 2, lambda i, j: sp.diff(f, x[i], x[j]))\n",
    "hessian"
   ]
  },
  {
   "cell_type": "code",
   "execution_count": 15,
   "id": "89160529-6ef1-45c1-9e58-72d16ad941fd",
   "metadata": {},
   "outputs": [],
   "source": [
    "import numpy as np\n",
    "def ex0224(x):\n",
    "    f = x[0] * x[0] - x[0] * x[1] + 2.0 * x[1] * x[1]\n",
    "    g = np.array([2.0*x[0]-x[1], -[x0]+4.0 * x[1]])\n",
    "    h = np.array([[2.0, -1.0],[-1.0, 4.0]])\n",
    "    return f, g, h"
   ]
  },
  {
   "cell_type": "markdown",
   "id": "50710f86-7087-4e09-a7c1-ed11094f5ba1",
   "metadata": {},
   "source": [
    "Evaluate the function at \\\\[ x = \\left(\\begin{array}{c}1 \\\\ 1 \\end{array}\\right)\\\\]"
   ]
  },
  {
   "cell_type": "code",
   "execution_count": null,
   "id": "4758718b-2430-4bb1-ac8a-a71c2af0d3d4",
   "metadata": {},
   "outputs": [],
   "source": []
  }
 ],
 "metadata": {
  "kernelspec": {
   "display_name": "Python 3 (ipykernel)",
   "language": "python",
   "name": "python3"
  },
  "language_info": {
   "codemirror_mode": {
    "name": "ipython",
    "version": 3
   },
   "file_extension": ".py",
   "mimetype": "text/x-python",
   "name": "python",
   "nbconvert_exporter": "python",
   "pygments_lexer": "ipython3",
   "version": "3.13.3"
  }
 },
 "nbformat": 4,
 "nbformat_minor": 5
}
